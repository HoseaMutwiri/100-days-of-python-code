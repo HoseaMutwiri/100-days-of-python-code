{
 "cells": [
  {
   "cell_type": "markdown",
   "id": "19f17326",
   "metadata": {},
   "source": [
    "# Day 1"
   ]
  },
  {
   "cell_type": "code",
   "execution_count": 1,
   "id": "42a119d5",
   "metadata": {},
   "outputs": [
    {
     "name": "stdout",
     "output_type": "stream",
     "text": [
      "hello\n"
     ]
    }
   ],
   "source": [
    "print(\"hello\")"
   ]
  },
  {
   "cell_type": "code",
   "execution_count": 2,
   "id": "933e4b0f",
   "metadata": {},
   "outputs": [
    {
     "name": "stdout",
     "output_type": "stream",
     "text": [
      "hello statistician \n",
      "what is your name?\n"
     ]
    }
   ],
   "source": [
    "print(\"hello statistician \\nwhat is your name?\")"
   ]
  },
  {
   "cell_type": "code",
   "execution_count": 3,
   "id": "205db494",
   "metadata": {},
   "outputs": [
    {
     "name": "stdout",
     "output_type": "stream",
     "text": [
      "hello statistician\n"
     ]
    }
   ],
   "source": [
    "print(\"hello \"+\"statistician\")"
   ]
  },
  {
   "cell_type": "code",
   "execution_count": 4,
   "id": "a4e71726",
   "metadata": {},
   "outputs": [
    {
     "name": "stdout",
     "output_type": "stream",
     "text": [
      "print(\"hello\")\n"
     ]
    }
   ],
   "source": [
    "print('print(\"hello\")')"
   ]
  },
  {
   "cell_type": "code",
   "execution_count": 5,
   "id": "cbbf73ec",
   "metadata": {},
   "outputs": [
    {
     "name": "stdout",
     "output_type": "stream",
     "text": [
      "5\n"
     ]
    }
   ],
   "source": [
    "print(len(\"hosea\"))"
   ]
  },
  {
   "cell_type": "code",
   "execution_count": 6,
   "id": "36c22455",
   "metadata": {},
   "outputs": [
    {
     "name": "stdout",
     "output_type": "stream",
     "text": [
      "what is your name?hosea\n"
     ]
    },
    {
     "data": {
      "text/plain": [
       "'hosea'"
      ]
     },
     "execution_count": 6,
     "metadata": {},
     "output_type": "execute_result"
    }
   ],
   "source": [
    "input(\"what is your name?\")"
   ]
  },
  {
   "cell_type": "code",
   "execution_count": 7,
   "id": "1a5c0fe7",
   "metadata": {},
   "outputs": [
    {
     "name": "stdout",
     "output_type": "stream",
     "text": [
      "what is your name?hosea\n",
      "5\n"
     ]
    }
   ],
   "source": [
    "print(len(input(\"what is your name?\")))"
   ]
  },
  {
   "cell_type": "code",
   "execution_count": 8,
   "id": "c8c3f309",
   "metadata": {},
   "outputs": [
    {
     "name": "stdout",
     "output_type": "stream",
     "text": [
      "what is your phone number?45455\n",
      "45455\n",
      "5\n"
     ]
    }
   ],
   "source": [
    "number=input(\"what is your phone number?\")\n",
    "print(number)\n",
    "print(len(number))"
   ]
  },
  {
   "cell_type": "code",
   "execution_count": 9,
   "id": "c68e9547",
   "metadata": {},
   "outputs": [
    {
     "name": "stdout",
     "output_type": "stream",
     "text": [
      "welcome to the band name generator.\n",
      "which city did you grow in?\n",
      "meru\n",
      "what is the name of your pet?\n",
      "tom\n",
      "your band name could be meru tom\n"
     ]
    }
   ],
   "source": [
    "print(\"welcome to the band name generator.\")\n",
    "city=input(\"which city did you grow in?\\n\")\n",
    "pet=input(\"what is the name of your pet?\\n\")\n",
    "print(\"your band name could be \"+city+\" \"+pet)\n",
    "    \n",
    "    "
   ]
  },
  {
   "cell_type": "markdown",
   "id": "55d48122",
   "metadata": {},
   "source": [
    "# Day 2"
   ]
  },
  {
   "cell_type": "code",
   "execution_count": 10,
   "id": "802b9cf5",
   "metadata": {},
   "outputs": [
    {
     "name": "stdout",
     "output_type": "stream",
     "text": [
      "Enter an integer34\n",
      "7\n"
     ]
    }
   ],
   "source": [
    "num=input(\"Enter an integer\")\n",
    "first=int(num[0])\n",
    "second=int(num[1])\n",
    "result=first+second\n",
    "print(result)\n",
    "    "
   ]
  },
  {
   "cell_type": "markdown",
   "id": "f08a6e59",
   "metadata": {},
   "source": [
    "## Body mass index calculator"
   ]
  },
  {
   "cell_type": "code",
   "execution_count": 14,
   "id": "8415685f",
   "metadata": {},
   "outputs": [
    {
     "name": "stdout",
     "output_type": "stream",
     "text": [
      "Enter your weight in kilograms50\n",
      "Enter your height in meters1.4\n",
      "25.510204081632658\n",
      "25.51\n"
     ]
    }
   ],
   "source": [
    "weight=input(\"Enter your weight in kilograms\")\n",
    "height=input(\"Enter your height in meters\")\n",
    "height=float(height)\n",
    "weight=float(weight)\n",
    "new_height=height**2\n",
    "BMI=weight/new_height\n",
    "new_BMI=round(BMI,2)\n",
    "print(BMI)\n",
    "print(new_BMI)\n",
    "#if(BMI<18.5){print(\"underweight\")};\n",
    "#else if(BMI<25){print(\"normal weight\")}\n",
    "##else if(BMI<30){print(\"overweight\")}\n",
    "#else {print(\"obese\")}"
   ]
  },
  {
   "cell_type": "markdown",
   "id": "7a1e3502",
   "metadata": {},
   "source": [
    "## Remaining days"
   ]
  },
  {
   "cell_type": "code",
   "execution_count": 18,
   "id": "662c1a92",
   "metadata": {},
   "outputs": [
    {
     "name": "stdout",
     "output_type": "stream",
     "text": [
      "Enter your age23\n",
      "you have\n",
      "weeks 3484\n",
      "days 24455\n"
     ]
    }
   ],
   "source": [
    "age=input(\"Enter your age\")\n",
    "age=int(age)\n",
    "remaining_years=90-age\n",
    "weeks=remaining_years*52\n",
    "days=remaining_years*365\n",
    "result=f\"you have\\nweeks {weeks}\\ndays {days}\"\n",
    "print(result)"
   ]
  },
  {
   "cell_type": "markdown",
   "id": "23ab52bd",
   "metadata": {},
   "source": [
    "## Tip calculator"
   ]
  },
  {
   "cell_type": "code",
   "execution_count": 22,
   "id": "2b87d811",
   "metadata": {},
   "outputs": [
    {
     "name": "stdout",
     "output_type": "stream",
     "text": [
      "welcome to tip calculator\n",
      "Enter the total bill\n",
      "1430\n",
      "How many individuals want to share?\n",
      "3\n",
      "every one should share: ksh476.67\n",
      "which is 33%\n"
     ]
    }
   ],
   "source": [
    "print(\"welcome to tip calculator\")\n",
    "bill=input(\"Enter the total bill\\n\")\n",
    "num=input(\"How many individuals want to share?\\n\")\n",
    "bill=int(bill)\n",
    "num=int(num)\n",
    "share=round((bill/num),2)\n",
    "percent=round((share/bill)*100)\n",
    "print(f\"every one should share: ksh{share}\\nwhich is {percent}%\")"
   ]
  },
  {
   "cell_type": "code",
   "execution_count": 1,
   "id": "65790ceb",
   "metadata": {},
   "outputs": [],
   "source": [
    "#!pip install jupyterthemes"
   ]
  },
  {
   "cell_type": "code",
   "execution_count": 3,
   "id": "ec23af99",
   "metadata": {},
   "outputs": [
    {
     "name": "stdout",
     "output_type": "stream",
     "text": [
      "Available Themes: \n",
      "   chesterish\n",
      "   grade3\n",
      "   gruvboxd\n",
      "   gruvboxl\n",
      "   monokai\n",
      "   oceans16\n",
      "   onedork\n",
      "   solarizedd\n",
      "   solarizedl\n"
     ]
    }
   ],
   "source": [
    "!jt -l"
   ]
  },
  {
   "cell_type": "code",
   "execution_count": 7,
   "id": "7bfd9c98",
   "metadata": {},
   "outputs": [],
   "source": []
  },
  {
   "cell_type": "code",
   "execution_count": null,
   "id": "1749a0ac",
   "metadata": {},
   "outputs": [],
   "source": []
  }
 ],
 "metadata": {
  "kernelspec": {
   "display_name": "Python 3 (ipykernel)",
   "language": "python",
   "name": "python3"
  },
  "language_info": {
   "codemirror_mode": {
    "name": "ipython",
    "version": 3
   },
   "file_extension": ".py",
   "mimetype": "text/x-python",
   "name": "python",
   "nbconvert_exporter": "python",
   "pygments_lexer": "ipython3",
   "version": "3.9.7"
  }
 },
 "nbformat": 4,
 "nbformat_minor": 5
}
