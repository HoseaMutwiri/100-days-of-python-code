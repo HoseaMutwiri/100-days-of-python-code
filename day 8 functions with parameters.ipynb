{
 "cells": [
  {
   "cell_type": "markdown",
   "id": "85c33bad",
   "metadata": {},
   "source": [
    "## defining functions"
   ]
  },
  {
   "cell_type": "code",
   "execution_count": 1,
   "id": "4413cd1b",
   "metadata": {},
   "outputs": [
    {
     "name": "stdout",
     "output_type": "stream",
     "text": [
      "how are you hosea ?\n",
      "how is it like in meru ?\n"
     ]
    }
   ],
   "source": [
    "def greet(name,location):\n",
    "    print(f\"how are you {name} ?\")\n",
    "    print(f\"how is it like in {location} ?\")\n",
    "greet(\"hosea\",\"meru\")"
   ]
  },
  {
   "cell_type": "markdown",
   "id": "b24fe173",
   "metadata": {},
   "source": [
    "## function with two arguments interchaged"
   ]
  },
  {
   "cell_type": "code",
   "execution_count": 2,
   "id": "cdb7d203",
   "metadata": {},
   "outputs": [
    {
     "name": "stdout",
     "output_type": "stream",
     "text": [
      "how are you hosea ?\n",
      "how is it like in nairobi ?\n"
     ]
    }
   ],
   "source": [
    "def greet(name,location):\n",
    "    print(f\"how are you {name} ?\")\n",
    "    print(f\"how is it like in {location} ?\")\n",
    "greet(location= \"nairobi\",name=\"hosea\")"
   ]
  },
  {
   "cell_type": "markdown",
   "id": "4ff8e843",
   "metadata": {},
   "source": [
    "## wall area calculator"
   ]
  },
  {
   "cell_type": "code",
   "execution_count": 3,
   "id": "28a0f4bf",
   "metadata": {},
   "outputs": [
    {
     "name": "stdout",
     "output_type": "stream",
     "text": [
      "let us help you in calculating are of the wall\n",
      "enter the unit height of the wall\n",
      "45\n",
      "enter the unit width of the wall\n",
      "24\n",
      "the area of the wall is 1080square units\n"
     ]
    }
   ],
   "source": [
    "print(\"let us help you in calculating area of the wall\")\n",
    "import math\n",
    "height=int(input(\"enter the unit height of the wall\\n\"))\n",
    "width=int(input(\"enter the unit width of the wall\\n\"))\n",
    "def area(h,w):\n",
    "    area=(math.ceil(h*w))\n",
    "    print(f\"the area of the wall is {area}square units\")\n",
    "area(h=height,w=width)"
   ]
  },
  {
   "cell_type": "markdown",
   "id": "5564325f",
   "metadata": {},
   "source": [
    "## prime number checker"
   ]
  },
  {
   "cell_type": "code",
   "execution_count": 4,
   "id": "9a7e8f5e",
   "metadata": {},
   "outputs": [
    {
     "name": "stdout",
     "output_type": "stream",
     "text": [
      "enter a number you wish to check67\n",
      "67 is a prime number\n"
     ]
    }
   ],
   "source": [
    "number=int(input(\"enter a number you wish to check\"))\n",
    "def prime_number_checker(num):\n",
    "    prime=True\n",
    "    for n in range(2,num):\n",
    "        if num%n !=0:\n",
    "            prime=True\n",
    "    if prime:\n",
    "        print(f\"{num} is a prime number\")\n",
    "    else:\n",
    "        print(f\"{num} is not a prime number\")\n",
    "prime_number_checker(num=number)"
   ]
  },
  {
   "cell_type": "markdown",
   "id": "8c6a89e0",
   "metadata": {},
   "source": [
    "## caesar cipher for understanding"
   ]
  },
  {
   "cell_type": "code",
   "execution_count": 5,
   "id": "3c95dfbc",
   "metadata": {},
   "outputs": [
    {
     "name": "stdout",
     "output_type": "stream",
     "text": [
      "encode to encryt, decode to dycryt\n",
      "encode\n",
      "type the message\n",
      "hello\n",
      "enter your shifts\n",
      "4\n",
      "The encoded text is lipps\n"
     ]
    }
   ],
   "source": [
    "alphabets=[\"a\",\"b\",\"c\",\"d\",\"e\",\"f\",\"g\",\"h\",\"i\",\"j\",\"k\",\n",
    "           \"l\",\"n\",\"m\",\"o\",\"p\",\"q\",\"r\",\"s\",\"t\",\"u\",\"v\",\"w\",\"x\",\"y\",\"z\",\n",
    "           \"a\",\"b\",\"c\",\"d\",\"e\",\"f\",\"g\",\"h\",\"i\",\"j\",\"k\",\n",
    "           \"l\",\"n\",\"m\",\"o\",\"p\",\"q\",\"r\",\"s\",\"t\",\"u\",\"v\",\"w\",\"x\",\"y\",\"z\"]\n",
    "direction=input(\"encode to encryt, decode to dycryt\\n\")\n",
    "text=input(\"type the message\\n\")\n",
    "shift=int(input(\"enter your shifts\\n\"))\n",
    "def encrypt(encrypt_text,shift_amount):\n",
    "    cipher_text=\"\"\n",
    "    for letter in text:\n",
    "        position=alphabets.index(letter)\n",
    "        new_position=position+shift_amount\n",
    "        message=alphabets[new_position]\n",
    "        cipher_text+=message\n",
    "    print(f\"The encoded text is {cipher_text}\")\n",
    "#encrypt(encrypt_text=text,shift_amount=shift)\n",
    "def dycrypt(cipher_text,shift_amount):\n",
    "    text_m=\"\"\n",
    "    for letter in cipher_text:\n",
    "        position=alphabets.index(letter)\n",
    "        new_position=position-shift_amount\n",
    "        message=alphabets[new_position]\n",
    "        text_m +=message\n",
    "    print(f\"The decoded message is {text_m} \")\n",
    "#dycrypt(cipher_text=text,shift_amount=shift)\n",
    "if direction == \"encode\":\n",
    "    encrypt(encrypt_text=text,shift_amount=shift)\n",
    "elif direction ==\"decode\":\n",
    "    dycrypt(cipher_text=text,shift_amount=shift)\n",
    "    \n",
    "    \n",
    "        \n",
    "        \n",
    "\n"
   ]
  },
  {
   "cell_type": "markdown",
   "id": "fa10dc9a",
   "metadata": {},
   "source": [
    "## caesar cipher full"
   ]
  },
  {
   "cell_type": "code",
   "execution_count": 12,
   "id": "a9644104",
   "metadata": {},
   "outputs": [
    {
     "name": "stdout",
     "output_type": "stream",
     "text": [
      "encode to encryt, decode to dycryt\n",
      "encode\n",
      "type the message\n",
      "hello\n",
      "enter your shifts\n",
      "4\n",
      "The encoded text is lipps \n",
      "Do you want to continue yes or nono\n",
      "Goodbye\n"
     ]
    }
   ],
   "source": [
    "alphabets=[\"a\",\"b\",\"c\",\"d\",\"e\",\"f\",\"g\",\"h\",\"i\",\"j\",\"k\",\"l\",\"n\",\"m\",\"o\",\"p\",\"q\",\"r\",\"s\",\"t\",\"u\",\"v\",\"w\",\"x\",\n",
    "           \"y\",\"z\",\"a\",\"b\",\"c\",\"d\",\"e\",\"f\",\"g\",\"h\",\"i\",\"j\",\"k\",\"l\",\"n\",\"m\",\"o\",\"p\",\"q\",\"r\",\"s\",\"t\",\"u\",\"v\",\n",
    "           \"w\",\"x\",\"y\",\"z\"]\n",
    "should_continue=True\n",
    "while should_continue:\n",
    "    direction=input(\"encode to encryt, decode to dycryt\\n\").lower()\n",
    "    text=input(\"type the message\\n\").lower()\n",
    "    shift=int(input(\"enter your shifts\\n\"))\n",
    "    shift=shift%26\n",
    "    caesar(plain_text=text,shift_amount=shift,directions=direction)\n",
    "    response=input(\"Do you want to continue yes or no\").lower()\n",
    "    if response==\"no\":\n",
    "        should_continue=False\n",
    "        print(\"Goodbye\")\n",
    "def caesar(plain_text,shift_amount,directions):\n",
    "    text_mess=\"\"\n",
    "    if directions==\"decode\":\n",
    "        shift_amount*=-1\n",
    "    for letter in plain_text:\n",
    "        if letter in alphabets:\n",
    "            position=alphabets.index(letter)\n",
    "            new_position=position+shift_amount\n",
    "            new_letter=alphabets[new_position]\n",
    "            text_mess+=new_letter\n",
    "        else:\n",
    "            text_mess+=letter\n",
    "    print(f\"The {directions}d text is {text_mess} \")\n",
    "\n",
    "        "
   ]
  }
 ],
 "metadata": {
  "kernelspec": {
   "display_name": "Python 3 (ipykernel)",
   "language": "python",
   "name": "python3"
  },
  "language_info": {
   "codemirror_mode": {
    "name": "ipython",
    "version": 3
   },
   "file_extension": ".py",
   "mimetype": "text/x-python",
   "name": "python",
   "nbconvert_exporter": "python",
   "pygments_lexer": "ipython3",
   "version": "3.9.7"
  }
 },
 "nbformat": 4,
 "nbformat_minor": 5
}
