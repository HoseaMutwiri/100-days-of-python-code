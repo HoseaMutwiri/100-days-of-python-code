{
 "cells": [
  {
   "cell_type": "markdown",
   "id": "19f17326",
   "metadata": {},
   "source": [
    "# Day 1"
   ]
  },
  {
   "cell_type": "code",
   "execution_count": 1,
   "id": "42a119d5",
   "metadata": {},
   "outputs": [
    {
     "name": "stdout",
     "output_type": "stream",
     "text": [
      "hello\n"
     ]
    }
   ],
   "source": [
    "print(\"hello\")"
   ]
  },
  {
   "cell_type": "code",
   "execution_count": 2,
   "id": "933e4b0f",
   "metadata": {},
   "outputs": [
    {
     "name": "stdout",
     "output_type": "stream",
     "text": [
      "hello statistician \n",
      "what is your name?\n"
     ]
    }
   ],
   "source": [
    "print(\"hello statistician \\nwhat is your name?\")"
   ]
  },
  {
   "cell_type": "code",
   "execution_count": 3,
   "id": "205db494",
   "metadata": {},
   "outputs": [
    {
     "name": "stdout",
     "output_type": "stream",
     "text": [
      "hello statistician\n"
     ]
    }
   ],
   "source": [
    "print(\"hello \"+\"statistician\")"
   ]
  },
  {
   "cell_type": "code",
   "execution_count": 4,
   "id": "a4e71726",
   "metadata": {},
   "outputs": [
    {
     "name": "stdout",
     "output_type": "stream",
     "text": [
      "print(\"hello\")\n"
     ]
    }
   ],
   "source": [
    "print('print(\"hello\")')"
   ]
  },
  {
   "cell_type": "code",
   "execution_count": 5,
   "id": "cbbf73ec",
   "metadata": {},
   "outputs": [
    {
     "name": "stdout",
     "output_type": "stream",
     "text": [
      "5\n"
     ]
    }
   ],
   "source": [
    "print(len(\"hosea\"))"
   ]
  },
  {
   "cell_type": "code",
   "execution_count": 6,
   "id": "36c22455",
   "metadata": {},
   "outputs": [
    {
     "name": "stdout",
     "output_type": "stream",
     "text": [
      "what is your name?hosea\n"
     ]
    },
    {
     "data": {
      "text/plain": [
       "'hosea'"
      ]
     },
     "execution_count": 6,
     "metadata": {},
     "output_type": "execute_result"
    }
   ],
   "source": [
    "input(\"what is your name?\")"
   ]
  },
  {
   "cell_type": "code",
   "execution_count": 7,
   "id": "1a5c0fe7",
   "metadata": {},
   "outputs": [
    {
     "name": "stdout",
     "output_type": "stream",
     "text": [
      "what is your name?hosea\n",
      "5\n"
     ]
    }
   ],
   "source": [
    "print(len(input(\"what is your name?\")))"
   ]
  },
  {
   "cell_type": "code",
   "execution_count": 9,
   "id": "c8c3f309",
   "metadata": {},
   "outputs": [
    {
     "name": "stdout",
     "output_type": "stream",
     "text": [
      "what is your phone number?0727963753\n",
      "0727963753\n",
      "10\n"
     ]
    }
   ],
   "source": [
    "number=input(\"what is your phone number?\")\n",
    "print(number)\n",
    "print(len(number))"
   ]
  },
  {
   "cell_type": "code",
   "execution_count": 12,
   "id": "c68e9547",
   "metadata": {},
   "outputs": [
    {
     "name": "stdout",
     "output_type": "stream",
     "text": [
      "welcome to the band name generator.\n",
      "which city did you grow in?\n",
      "meru\n",
      "what is the name of your pet?\n",
      "tommy\n",
      "your band name could be meru tommy\n"
     ]
    }
   ],
   "source": [
    "print(\"welcome to the band name generator.\")\n",
    "city=input(\"which city did you grow in?\\n\")\n",
    "pet=input(\"what is the name of your pet?\\n\")\n",
    "print(\"your band name could be \"+city+\" \"+pet)\n",
    "    \n",
    "    "
   ]
  },
  {
   "cell_type": "code",
   "execution_count": null,
   "id": "f6fdeaa5",
   "metadata": {},
   "outputs": [],
   "source": []
  }
 ],
 "metadata": {
  "kernelspec": {
   "display_name": "Python 3 (ipykernel)",
   "language": "python",
   "name": "python3"
  },
  "language_info": {
   "codemirror_mode": {
    "name": "ipython",
    "version": 3
   },
   "file_extension": ".py",
   "mimetype": "text/x-python",
   "name": "python",
   "nbconvert_exporter": "python",
   "pygments_lexer": "ipython3",
   "version": "3.9.7"
  }
 },
 "nbformat": 4,
 "nbformat_minor": 5
}
