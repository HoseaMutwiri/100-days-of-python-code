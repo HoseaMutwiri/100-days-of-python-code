{
 "cells": [
  {
   "cell_type": "markdown",
   "id": "57080aa4",
   "metadata": {},
   "source": [
    "# DICTIONARIES"
   ]
  },
  {
   "cell_type": "code",
   "execution_count": 6,
   "id": "45b73531",
   "metadata": {},
   "outputs": [
    {
     "name": "stdout",
     "output_type": "stream",
     "text": [
      "{'mutwiri': 92, 'munene': 94, 'ian': 60, 'kelvin': 75, 'mutuma': 82}\n",
      "mutwiri\n",
      "outstanding\n",
      "munene\n",
      "outstanding\n",
      "ian\n",
      "fail\n",
      "kelvin\n",
      "acceptable\n",
      "mutuma\n",
      "exceed expectation\n"
     ]
    }
   ],
   "source": [
    "student_grade={\n",
    "    \"mutwiri\":92,\n",
    "    \"munene\":94,\n",
    "    \"ian\":60,\n",
    "    \"kelvin\":75,\n",
    "    \"mutuma\":82\n",
    "}\n",
    "print(student_grade)\n",
    "for key in student_grade:\n",
    "    if student_grade[key]>=91 and student_grade[key]<=100:\n",
    "        print(key)\n",
    "        print(\"outstanding\")\n",
    "    elif student_grade[key]>=81 and student_grade[key] <=90:\n",
    "        print(key)\n",
    "        print(\"exceed expectation\")\n",
    "    elif student_grade[key]>=71 and student_grade[key] <=80:\n",
    "        print(key)\n",
    "        print(\"acceptable\")\n",
    "    elif student_grade[key]<=70:\n",
    "        print(key)\n",
    "        print(\"fail\")\n"
   ]
  },
  {
   "cell_type": "code",
   "execution_count": 15,
   "id": "9b3d859d",
   "metadata": {},
   "outputs": [
    {
     "name": "stdout",
     "output_type": "stream",
     "text": [
      "[{'id': 23, 'contry': 'kenya', 'counties': ['meru', 'kirinyaga', 'mombasa']}, {'id': 24, 'contry': 'kenya', 'counties': ['kitui', 'nyeri', 'embu']}, {'id': 25, 'country': 'kenya', 'counties': ['nyanza', 'nakuru', 'baringo']}]\n"
     ]
    }
   ],
   "source": [
    "travel_log=[\n",
    "    {\"id\":23,\n",
    "     \"contry\":\"kenya\",\n",
    "    \"counties\":[\"meru\",\"kirinyaga\",\"mombasa\"]\n",
    "    },\n",
    "    {\"id\":24,\n",
    "    \"contry\":\"kenya\",\n",
    "    \"counties\":[\"kitui\",\"nyeri\",\"embu\"]\n",
    "    }\n",
    "]\n",
    "\n",
    "\n",
    "def add_travel_log(idc,contry,counties):\n",
    "    new_travel={}\n",
    "    new_travel[\"id\"]=idc\n",
    "    new_travel[\"country\"]=contry\n",
    "    new_travel[\"counties\"]=counties\n",
    "    travel_log.append(new_travel)\n",
    "add_travel_log(25,\"kenya\",[\"nyanza\",\"nakuru\",\"baringo\"])\n",
    "print(travel_log)"
   ]
  },
  {
   "cell_type": "code",
   "execution_count": 22,
   "id": "22321034",
   "metadata": {},
   "outputs": [
    {
     "name": "stdout",
     "output_type": "stream",
     "text": [
      "welcome to secret auction\n",
      "what is your name?\n",
      "hosea\n",
      "what is your bid amount?\n",
      "234\n",
      "Are there other bidders hosea? yes or no\n",
      "yes\n",
      "what is your name?\n",
      "jane\n",
      "what is your bid amount?\n",
      "456\n",
      "Are there other bidders jane? yes or no\n",
      "yes\n",
      "what is your name?\n",
      "ben\n",
      "what is your bid amount?\n",
      "567\n",
      "Are there other bidders ben? yes or no\n",
      "no\n",
      "The winner is ben with $567\n"
     ]
    }
   ],
   "source": [
    "print(\"welcome to secret auction\")\n",
    "bidders=True\n",
    "while bidders:\n",
    "    my_name=input(\"what is your name?\\n\")\n",
    "    my_bid=int(input(\"what is your bid amount?\\n\"))\n",
    "    cont=input(f\"Are there other bidders {my_name}? yes or no\\n\").lower()\n",
    "    if cont==\"no\":\n",
    "        bidders=False\n",
    "\n",
    "new_bid={}\n",
    "def bid(name,bid_amount):\n",
    "    new_bid[\"name\"]=bid_amount\n",
    "    \n",
    "    \n",
    "bid(my_name,my_bid)\n",
    "high_bid=0\n",
    "for b in new_bid:\n",
    "    highest=new_bid[b]\n",
    "    if highest>high_bid:\n",
    "        high_bid=highest\n",
    "        \n",
    "print(f\"The winner is {my_name} with ${high_bid}\")\n"
   ]
  }
 ],
 "metadata": {
  "kernelspec": {
   "display_name": "Python 3 (ipykernel)",
   "language": "python",
   "name": "python3"
  },
  "language_info": {
   "codemirror_mode": {
    "name": "ipython",
    "version": 3
   },
   "file_extension": ".py",
   "mimetype": "text/x-python",
   "name": "python",
   "nbconvert_exporter": "python",
   "pygments_lexer": "ipython3",
   "version": "3.9.7"
  }
 },
 "nbformat": 4,
 "nbformat_minor": 5
}
