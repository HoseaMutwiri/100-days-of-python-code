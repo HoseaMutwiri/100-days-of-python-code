{
 "cells": [
  {
   "cell_type": "markdown",
   "id": "84f8e4d8",
   "metadata": {},
   "source": [
    "# Day 3"
   ]
  },
  {
   "cell_type": "markdown",
   "id": "83f2c47e",
   "metadata": {},
   "source": [
    "## checking if a number is odd or even"
   ]
  },
  {
   "cell_type": "code",
   "execution_count": 3,
   "id": "ca3d8a58",
   "metadata": {},
   "outputs": [
    {
     "name": "stdout",
     "output_type": "stream",
     "text": [
      "enter a number45\n",
      "The number is odd number\n"
     ]
    }
   ],
   "source": [
    "num=int(input(\"enter a number\"))\n",
    "new_num=num % 2\n",
    "if new_num==0:\n",
    "    print(\"The number is even number\")\n",
    "else:\n",
    "    print(\"The number is odd number\")"
   ]
  },
  {
   "cell_type": "markdown",
   "id": "501e6306",
   "metadata": {},
   "source": [
    "## Body mass index calculator"
   ]
  },
  {
   "cell_type": "code",
   "execution_count": 8,
   "id": "af3c3fb3",
   "metadata": {},
   "outputs": [
    {
     "name": "stdout",
     "output_type": "stream",
     "text": [
      "Enter your mass in kilograms\n",
      "40\n",
      "Enter your height in meters\n",
      "1.2\n",
      "your body mass index is 27.77777777777778\n",
      "you have overweight\n"
     ]
    }
   ],
   "source": [
    "mass=input(\"Enter your mass in kilograms\\n\")\n",
    "height=input(\"Enter your height in meters\\n\")\n",
    "height=float(height)\n",
    "mass=float(mass)\n",
    "new_height=height**2\n",
    "BMI=mass/new_height\n",
    "new_BMI=round(BMI,2)\n",
    "print(f\"your body mass index is {BMI}\")\n",
    "#print(new_BMI)\n",
    "if BMI<18.5:\n",
    "    print(\"you are underweight\")\n",
    "elif BMI<25:\n",
    "    print(\"you have normal weight\")\n",
    "elif BMI<30:\n",
    "    print(\"you have overweight\")\n",
    "else:\n",
    "    print(\"you are obese\")"
   ]
  },
  {
   "cell_type": "markdown",
   "id": "4163e232",
   "metadata": {},
   "source": [
    "## Pizza purchase"
   ]
  },
  {
   "cell_type": "code",
   "execution_count": 24,
   "id": "ed17c01b",
   "metadata": {},
   "outputs": [
    {
     "name": "stdout",
     "output_type": "stream",
     "text": [
      "what is your order? small pizza,medium pizza or large pizza \n",
      "small pizza\n",
      "Do you need pepperoni? yes or no \n",
      "yes\n",
      "Do you need extra cheese? yes or no \n",
      "yes\n",
      "your total bill for pizza is $18\n"
     ]
    }
   ],
   "source": [
    "pizza=input(\"what is your order? small pizza,medium pizza or large pizza \\n\")\n",
    "bill = 0\n",
    "if pizza == \"small pizza\":\n",
    "    bill += 15\n",
    "elif pizza == \"medium pizza\":\n",
    "    bill +=20\n",
    "else:\n",
    "    bill +=25\n",
    "add_pep=input(\"Do you need pepperoni? yes or no \\n\")\n",
    "if add_pep == \"yes\":\n",
    "    if pizza == \"small pizza\":\n",
    "        bill += 2\n",
    "    else:\n",
    "        bill += 3\n",
    "extra_cheese=input(\"Do you need extra cheese? yes or no \\n\")\n",
    "if extra_cheese==\"yes\":\n",
    "    bill +=1\n",
    "print(f\"your total bill for pizza is ${bill}\")\n",
    "    \n",
    "\n"
   ]
  },
  {
   "cell_type": "markdown",
   "id": "518098a5",
   "metadata": {},
   "source": [
    "## leap year evaluator"
   ]
  },
  {
   "cell_type": "code",
   "execution_count": 23,
   "id": "d369d157",
   "metadata": {},
   "outputs": [
    {
     "name": "stdout",
     "output_type": "stream",
     "text": [
      "Enter the year2020\n",
      "leap year\n"
     ]
    }
   ],
   "source": [
    "year=int(input(\"Enter the year\"))\n",
    "if year % 4 == 0 and year % 100 != 0 and year % 400 != 0:\n",
    "    print(\"leap year\")\n",
    "else:\n",
    "    print(\"not a leap year\")"
   ]
  }
 ],
 "metadata": {
  "kernelspec": {
   "display_name": "Python 3 (ipykernel)",
   "language": "python",
   "name": "python3"
  },
  "language_info": {
   "codemirror_mode": {
    "name": "ipython",
    "version": 3
   },
   "file_extension": ".py",
   "mimetype": "text/x-python",
   "name": "python",
   "nbconvert_exporter": "python",
   "pygments_lexer": "ipython3",
   "version": "3.9.7"
  }
 },
 "nbformat": 4,
 "nbformat_minor": 5
}
