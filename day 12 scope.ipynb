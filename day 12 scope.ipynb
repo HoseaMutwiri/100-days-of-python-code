{
 "cells": [
  {
   "cell_type": "code",
   "execution_count": 9,
   "id": "1f0c17e3",
   "metadata": {},
   "outputs": [
    {
     "name": "stdout",
     "output_type": "stream",
     "text": [
      "welcome to the number guessing game\n",
      "i am thinking of a number between 1 and 100\n",
      "choose a difficulty easy or hard\n",
      "hard\n",
      "you have 5 times guess a number\n",
      " 50\n",
      "your choice is less than the number \n",
      "you have 4 times guess a number\n",
      " 86\n",
      "your choice is less than the number \n",
      "you have 3 times guess a number\n",
      " 93\n",
      "your choice is greater than the number \n",
      "you have 2 times guess a number\n",
      " 87\n",
      "your choice is less than the number \n",
      "you have 1 times guess a number\n",
      " 90\n",
      "your choice is greater than the number \n"
     ]
    }
   ],
   "source": [
    "import random\n",
    "print(\"welcome to the number guessing game\")\n",
    "print(\"i am thinking of a number between 1 and 100\")\n",
    "num=random.randint(0,100+1)\n",
    "choice=input(\"choose a difficulty: easy or hard\\n\").lower()\n",
    "if choice==\"easy\":\n",
    "    note=[]\n",
    "    should_cont=True \n",
    "    while should_cont and len(note)<10:\n",
    "        nt=int(input(f\"you have {10-len(note)} times guess a number\\n \"))\n",
    "        note.append(nt)\n",
    "        if nt<num:\n",
    "            print(\"your choice is less than the number \")\n",
    "        elif nt>num:\n",
    "            print(\"your choice is greater than the number\")\n",
    "        elif nt==num:\n",
    "            should_cont=False\n",
    "            print(f\"you are right the answer is {nt}\")\n",
    "        else:\n",
    "            print(\"Game over\")\n",
    "elif choice==\"hard\":\n",
    "    note=[]\n",
    "    should_cont=True \n",
    "    while should_cont and len(note)<5:\n",
    "        nt=int(input(f\"you have {5-len(note)} times guess a number\\n \"))\n",
    "        note.append(nt)\n",
    "        if nt<num:\n",
    "            print(\"your choice is less than the number \")\n",
    "        elif nt>num:\n",
    "            print(\"your choice is greater than the number \")\n",
    "        elif nt==num:\n",
    "            should_cont=False\n",
    "            print(f\"you are right the answer is {nt} \")\n",
    "        else:\n",
    "            print(\"Game over\")\n",
    "else:\n",
    "    print(\"invalid input\")"
   ]
  }
 ],
 "metadata": {
  "kernelspec": {
   "display_name": "Python 3 (ipykernel)",
   "language": "python",
   "name": "python3"
  },
  "language_info": {
   "codemirror_mode": {
    "name": "ipython",
    "version": 3
   },
   "file_extension": ".py",
   "mimetype": "text/x-python",
   "name": "python",
   "nbconvert_exporter": "python",
   "pygments_lexer": "ipython3",
   "version": "3.9.7"
  }
 },
 "nbformat": 4,
 "nbformat_minor": 5
}
