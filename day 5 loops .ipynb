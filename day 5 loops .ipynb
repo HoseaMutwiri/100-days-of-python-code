{
 "cells": [
  {
   "cell_type": "markdown",
   "id": "42f17592",
   "metadata": {},
   "source": [
    "# Day 5"
   ]
  },
  {
   "cell_type": "markdown",
   "id": "9e5af374",
   "metadata": {},
   "source": [
    "## loops(for loop)"
   ]
  },
  {
   "cell_type": "markdown",
   "id": "8ff46a2b",
   "metadata": {},
   "source": [
    "## sum of numbers btwn 1 and 100"
   ]
  },
  {
   "cell_type": "code",
   "execution_count": 23,
   "id": "1d8c2e5d",
   "metadata": {},
   "outputs": [
    {
     "name": "stdout",
     "output_type": "stream",
     "text": [
      "5050\n"
     ]
    }
   ],
   "source": [
    "total=0\n",
    "for num in range(1,101):\n",
    "    total+=num\n",
    "print(total)"
   ]
  },
  {
   "cell_type": "markdown",
   "id": "31d8dd8d",
   "metadata": {},
   "source": [
    "## sum of even numbers beween 1 and 100"
   ]
  },
  {
   "cell_type": "code",
   "execution_count": 24,
   "id": "3c7febf2",
   "metadata": {},
   "outputs": [
    {
     "name": "stdout",
     "output_type": "stream",
     "text": [
      "2550\n"
     ]
    }
   ],
   "source": [
    "total=0\n",
    "for num in range(1,101):\n",
    "    if num%2==0:\n",
    "        total+=num\n",
    "print(total)"
   ]
  },
  {
   "cell_type": "markdown",
   "id": "be030ba8",
   "metadata": {},
   "source": [
    "## fizzbuzz game"
   ]
  },
  {
   "cell_type": "code",
   "execution_count": 46,
   "id": "bed4ea3d",
   "metadata": {},
   "outputs": [
    {
     "name": "stdout",
     "output_type": "stream",
     "text": [
      "1\n",
      "2\n",
      "fizz\n",
      "4\n",
      "buzz\n",
      "fizz\n",
      "7\n",
      "8\n",
      "fizz\n",
      "buzz\n",
      "11\n",
      "fizz\n",
      "13\n",
      "14\n",
      "fizzbuzz\n",
      "16\n",
      "17\n",
      "fizz\n",
      "19\n",
      "buzz\n",
      "fizz\n",
      "22\n",
      "23\n",
      "fizz\n",
      "buzz\n",
      "26\n",
      "fizz\n",
      "28\n",
      "29\n",
      "fizzbuzz\n",
      "31\n",
      "32\n",
      "fizz\n",
      "34\n",
      "buzz\n",
      "fizz\n",
      "37\n",
      "38\n",
      "fizz\n",
      "buzz\n",
      "41\n",
      "fizz\n",
      "43\n",
      "44\n",
      "fizzbuzz\n",
      "46\n",
      "47\n",
      "fizz\n",
      "49\n",
      "buzz\n",
      "fizz\n",
      "52\n",
      "53\n",
      "fizz\n",
      "buzz\n",
      "56\n",
      "fizz\n",
      "58\n",
      "59\n",
      "fizzbuzz\n",
      "61\n",
      "62\n",
      "fizz\n",
      "64\n",
      "buzz\n",
      "fizz\n",
      "67\n",
      "68\n",
      "fizz\n",
      "buzz\n",
      "71\n",
      "fizz\n",
      "73\n",
      "74\n",
      "fizzbuzz\n",
      "76\n",
      "77\n",
      "fizz\n",
      "79\n",
      "buzz\n",
      "fizz\n",
      "82\n",
      "83\n",
      "fizz\n",
      "buzz\n",
      "86\n",
      "fizz\n",
      "88\n",
      "89\n",
      "fizzbuzz\n",
      "91\n",
      "92\n",
      "fizz\n",
      "94\n",
      "buzz\n",
      "fizz\n",
      "97\n",
      "98\n",
      "fizz\n",
      "buzz\n"
     ]
    }
   ],
   "source": [
    "for num in range(1,101):\n",
    "    if num%3==0 and num%5==0:\n",
    "        print(\"fizzbuzz\")\n",
    "    elif num%3==0:\n",
    "        print(\"fizz\")\n",
    "    elif num%5==0:\n",
    "        print(\"buzz\")\n",
    "    else:\n",
    "        print(num)\n",
    "        \n"
   ]
  },
  {
   "cell_type": "markdown",
   "id": "696c6eb9",
   "metadata": {},
   "source": [
    "## password generation"
   ]
  },
  {
   "cell_type": "code",
   "execution_count": 44,
   "id": "7cdb4e8d",
   "metadata": {},
   "outputs": [
    {
     "name": "stdout",
     "output_type": "stream",
     "text": [
      "welcome to password generator\n",
      "how many letter do you want in your password\n",
      "4\n",
      "how many numbers do you want in your password\n",
      "3\n",
      "how many symbols do you want in your password\n",
      "2\n",
      "your password is: WIIC638@&\n"
     ]
    }
   ],
   "source": [
    "import random\n",
    "letters=[\"A\",\"B\",\"C\",\"D\",\"E\",\"F\",\"G\",\"H\",\"I\",\"J\",\"K\",\n",
    "         \"L\",\"M\",\"N\",\"O\",\"P\",\"Q\",\"R\",\"S\",\"T\",\"U\",\"V\",\"W\",\"X\",\"Y\",\"Z\"]\n",
    "numbers=[\"1\",\"2\",\"3\",\"4\",\"5\",\"6\",\"7\",\"8\",\"9\"]\n",
    "symbols=[\"@\",\"%\",\"&\",\"*\"]\n",
    "print(\"welcome to password generator\")\n",
    "letter=int(input(\"how many letter do you want in your password\\n\"))\n",
    "number=int(input(\"how many numbers do you want in your password\\n\"))\n",
    "symbol=int(input(\"how many symbols do you want in your password\\n\"))\n",
    "password=\"\"\n",
    "for i in range(1,letter+1):\n",
    "    password+=random.choice(letters)\n",
    "for i in range(1,number+1):\n",
    "    password+=random.choice(numbers)\n",
    "for i in range(1,symbol+1):\n",
    "    password+=random.choice(symbols)\n",
    "print(f\"your password is: {password}\")"
   ]
  },
  {
   "cell_type": "markdown",
   "id": "bc5182c7",
   "metadata": {},
   "source": [
    "## complete randomized password generation"
   ]
  },
  {
   "cell_type": "code",
   "execution_count": 45,
   "id": "1efe858f",
   "metadata": {},
   "outputs": [
    {
     "name": "stdout",
     "output_type": "stream",
     "text": [
      "welcome to password generator\n",
      "how many letter do you want in your password\n",
      "3\n",
      "how many numbers do you want in your password\n",
      "4\n",
      "how many symbols do you want in your password\n",
      "3\n",
      "your password is: 2%FW3@Y61%\n"
     ]
    }
   ],
   "source": [
    "import random\n",
    "letters=[\"A\",\"B\",\"C\",\"D\",\"E\",\"F\",\"G\",\"H\",\"I\",\"J\",\"K\",\n",
    "         \"L\",\"M\",\"N\",\"O\",\"P\",\"Q\",\"R\",\"S\",\"T\",\"U\",\"V\",\"W\",\"X\",\"Y\",\"Z\"]\n",
    "numbers=[\"1\",\"2\",\"3\",\"4\",\"5\",\"6\",\"7\",\"8\",\"9\"]\n",
    "symbols=[\"@\",\"%\",\"&\",\"*\"]\n",
    "print(\"welcome to password generator\")\n",
    "letter=int(input(\"how many letter do you want in your password\\n\"))\n",
    "number=int(input(\"how many numbers do you want in your password\\n\"))\n",
    "symbol=int(input(\"how many symbols do you want in your password\\n\"))\n",
    "password=[]\n",
    "for i in range(1,letter+1):\n",
    "    password.append(random.choice(letters))\n",
    "for i in range(1,number+1):\n",
    "    password.append(random.choice(numbers))\n",
    "for i in range(1,symbol+1):\n",
    "    password.append(random.choice(symbols))\n",
    "    random.shuffle(password)\n",
    "new_password=\"\"\n",
    "for i in password:\n",
    "    new_password+=i\n",
    "\n",
    "print(f\"your password is: {new_password}\")"
   ]
  },
  {
   "cell_type": "code",
   "execution_count": null,
   "id": "1f8d4f7c",
   "metadata": {},
   "outputs": [],
   "source": []
  }
 ],
 "metadata": {
  "kernelspec": {
   "display_name": "Python 3 (ipykernel)",
   "language": "python",
   "name": "python3"
  },
  "language_info": {
   "codemirror_mode": {
    "name": "ipython",
    "version": 3
   },
   "file_extension": ".py",
   "mimetype": "text/x-python",
   "name": "python",
   "nbconvert_exporter": "python",
   "pygments_lexer": "ipython3",
   "version": "3.9.7"
  }
 },
 "nbformat": 4,
 "nbformat_minor": 5
}
