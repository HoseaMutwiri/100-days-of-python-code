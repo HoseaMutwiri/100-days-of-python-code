{
 "cells": [
  {
   "cell_type": "markdown",
   "id": "83443029",
   "metadata": {},
   "source": [
    "# Day 10 functions"
   ]
  },
  {
   "cell_type": "markdown",
   "id": "2e11fe89",
   "metadata": {},
   "source": [
    "## leap year evaluator"
   ]
  },
  {
   "cell_type": "code",
   "execution_count": 4,
   "id": "0aab772d",
   "metadata": {},
   "outputs": [
    {
     "name": "stdout",
     "output_type": "stream",
     "text": [
      "enter the year\n",
      "2745\n",
      "enter the month\n",
      "15\n",
      "invalid input\n"
     ]
    }
   ],
   "source": [
    "def leap_year(year):\n",
    "    if year % 4 == 0 and year % 100 != 0 and year % 400 != 0:\n",
    "        return True\n",
    "    else:\n",
    "        return False\n",
    "def days_m(year,mo):\n",
    "    if mo>12 or mo <1:\n",
    "        return \"invalid input\"\n",
    "    m=[31,28,31,30,31,30,31,30,]\n",
    "    if leap_year(year) and mo==2:\n",
    "        return 29\n",
    "    return m[mo-1]\n",
    "year=int(input(\"enter the year\\n\"))\n",
    "mo=int(input(\"enter the month\\n\"))\n",
    "print(days_m(year,mo))\n",
    "    "
   ]
  },
  {
   "cell_type": "markdown",
   "id": "a02a9212",
   "metadata": {},
   "source": [
    "## calculator"
   ]
  },
  {
   "cell_type": "code",
   "execution_count": null,
   "id": "94bb638e",
   "metadata": {},
   "outputs": [
    {
     "name": "stdout",
     "output_type": "stream",
     "text": [
      "whats the frist number?\n",
      "85\n",
      "+\n",
      "-\n",
      "*\n",
      "/\n",
      "what is your symbol?\n",
      "+\n",
      "whats the next number?\n",
      "45\n",
      "130\n",
      "should we continue with the answer y or ny\n",
      "what is your symbol?\n",
      "*\n",
      "whats the next number?\n",
      "10\n",
      "1300\n",
      "should we continue with the answer y or nn\n",
      "let start aflesh\n"
     ]
    }
   ],
   "source": [
    "def add(n1,n2):\n",
    "    return n1+n2\n",
    "def sub(n1,n2):\n",
    "    return n1-n2\n",
    "def mult(n1,n2):\n",
    "    return n1*n2\n",
    "def div(n1,n2):\n",
    "    return n1/n2\n",
    "opp={\n",
    "    \"+\":add,\n",
    "    \"-\":sub,\n",
    "    \"*\":mult,\n",
    "    \"/\":div\n",
    "}\n",
    "def calculator():\n",
    "    num1=int(input(\"whats the frist number?\\n\"))\n",
    "\n",
    "    for symbol in opp:\n",
    "        print(symbol)\n",
    "    cot=True\n",
    "    while cot:\n",
    "        oppe=input(\"what is your symbol?\\n\")\n",
    "        num2=int(input(\"whats the next number?\\n\"))\n",
    "        for i in opp:\n",
    "            if oppe==i:\n",
    "                answer=opp[oppe]\n",
    "            correct_answer=answer(num1,num2)\n",
    "        print(correct_answer)\n",
    "        cont=input(\"should we continue with the answer y or n\")\n",
    "        if cont==\"n\":\n",
    "            cot=False\n",
    "            print(\"let start aflesh\")\n",
    "            calculator()\n",
    "        else:\n",
    "            num1=correct_answer\n",
    "            \n",
    "calculator()\n",
    "\n",
    "    \n",
    "\n"
   ]
  },
  {
   "cell_type": "code",
   "execution_count": null,
   "id": "7a824b2d",
   "metadata": {},
   "outputs": [],
   "source": []
  }
 ],
 "metadata": {
  "kernelspec": {
   "display_name": "Python 3 (ipykernel)",
   "language": "python",
   "name": "python3"
  },
  "language_info": {
   "codemirror_mode": {
    "name": "ipython",
    "version": 3
   },
   "file_extension": ".py",
   "mimetype": "text/x-python",
   "name": "python",
   "nbconvert_exporter": "python",
   "pygments_lexer": "ipython3",
   "version": "3.9.7"
  }
 },
 "nbformat": 4,
 "nbformat_minor": 5
}
