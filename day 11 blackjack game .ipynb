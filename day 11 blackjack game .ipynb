{
 "cells": [
  {
   "cell_type": "code",
   "execution_count": 1,
   "id": "9ece0230",
   "metadata": {},
   "outputs": [
    {
     "name": "stdout",
     "output_type": "stream",
     "text": [
      "do you want to play y or n y\n",
      "your cards are[3, 7]\n",
      "dealer card [10]\n",
      "stand(s) or hit(h)s\n",
      "[10, 10, 10]\n",
      "yours 10 dealers 30 it is bust\n"
     ]
    }
   ],
   "source": [
    "import random\n",
    "card=[11,2,3,4,5,6,7,8,9,10,10,10,10]\n",
    "play=input(\"do you want to play y or n \").lower()\n",
    "cards=[]\n",
    "if play==\"y\":\n",
    "    f=random.choice(card)\n",
    "    s=random.choice(card)\n",
    "    cards.append(f)\n",
    "    cards.append(s)\n",
    "    print(f\"your cards are{cards}\")\n",
    "    dealer=[]\n",
    "    d=random.choice(card)\n",
    "    dealer.append(d)\n",
    "    print(f\"dealer card {dealer}\")\n",
    "    se=random.choice(card)\n",
    "    dealer.append(se)\n",
    "stands=input(\"stand(s) or hit(h)\").lower()\n",
    "def game():\n",
    "    \n",
    "    if stands==\"h\":\n",
    "        n=random.choice(card)\n",
    "        cards.append(n)\n",
    "        print(f\"your cards are {cards} total to {sum(cards)}\")\n",
    "    elif stands==\"s\":\n",
    "        k=random.choice(card)\n",
    "        dealer.append(k)\n",
    "        while k<7:\n",
    "            dealer.append(k)\n",
    "        print(dealer)\n",
    "    if sum(dealer)>21 or sum(cards)>21:\n",
    "        print(f\"yours {sum(cards)} dealers {sum(dealer)} it is bust\")\n",
    "    elif sum(cards)>sum(dealer) and sum(cards)<=21:\n",
    "        print(f\"yours {sum(cards)} dealers {sum(dealer)} you won\")\n",
    "    elif sum(dealer)>sum(cards) and sum(dealer)<=21:\n",
    "        print(f\"yours {sum(cards)} dealers {sum(dealer)} you lost\")\n",
    "    elif sum(dealer)==sum(cards):\n",
    "        print(f\"yours {sum(cards)} dealers {sum(dealer)} it is a win-win\")\n",
    "\n",
    "game()"
   ]
  }
 ],
 "metadata": {
  "kernelspec": {
   "display_name": "Python 3 (ipykernel)",
   "language": "python",
   "name": "python3"
  },
  "language_info": {
   "codemirror_mode": {
    "name": "ipython",
    "version": 3
   },
   "file_extension": ".py",
   "mimetype": "text/x-python",
   "name": "python",
   "nbconvert_exporter": "python",
   "pygments_lexer": "ipython3",
   "version": "3.9.7"
  }
 },
 "nbformat": 4,
 "nbformat_minor": 5
}
