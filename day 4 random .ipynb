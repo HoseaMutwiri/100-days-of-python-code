{
 "cells": [
  {
   "cell_type": "markdown",
   "id": "cf4e1c19",
   "metadata": {},
   "source": [
    "# Day 4\n",
    "## randomization in python"
   ]
  },
  {
   "cell_type": "markdown",
   "id": "157616d3",
   "metadata": {},
   "source": [
    "## Tossing a coin"
   ]
  },
  {
   "cell_type": "code",
   "execution_count": 6,
   "id": "799298ba",
   "metadata": {},
   "outputs": [
    {
     "name": "stdout",
     "output_type": "stream",
     "text": [
      "Tail\n"
     ]
    }
   ],
   "source": [
    "import random\n",
    "coin=random.randint(0,1)\n",
    "if coin==1:\n",
    "    print(\"Head\")\n",
    "else:\n",
    "    print(\"Tail\")\n"
   ]
  },
  {
   "cell_type": "markdown",
   "id": "baec92a6",
   "metadata": {},
   "source": [
    "## random selection from a list"
   ]
  },
  {
   "cell_type": "code",
   "execution_count": 12,
   "id": "b4c2dab9",
   "metadata": {},
   "outputs": [
    {
     "name": "stdout",
     "output_type": "stream",
     "text": [
      "Enter your nameshosea,raston,eric,ruto\n",
      "ruto\n"
     ]
    }
   ],
   "source": [
    "names=input(\"Enter your names\\n\")\n",
    "lst = names.split(\",\")\n",
    "import random\n",
    "x = len(lst)\n",
    "k = random.randint(0,x-1)\n",
    "print(lst[k])\n"
   ]
  },
  {
   "cell_type": "markdown",
   "id": "78cee8f8",
   "metadata": {},
   "source": [
    "## Scissors,rock,paper game"
   ]
  },
  {
   "cell_type": "code",
   "execution_count": 23,
   "id": "bc3f5d3e",
   "metadata": {},
   "outputs": [
    {
     "name": "stdout",
     "output_type": "stream",
     "text": [
      "welcome to scissors,rock,paper game\n",
      "what is your choice? scissors,rock or paper\n",
      "rock\n",
      "computer choice was scissors\n",
      "you won the game \n"
     ]
    }
   ],
   "source": [
    "import random\n",
    "print(\"welcome to scissors,rock,paper game\")\n",
    "my_choice=input(\"what is your choice? scissors,rock or paper\\n\")\n",
    "my_list=[\"scissors\",\"rock\",\"paper\"]\n",
    "comp=random.choice(my_list)\n",
    "print(f\"computer choice was {comp}\")\n",
    "if my_choice==\"scissors\" and comp==\"paper\" or my_choice==\"rock\" and comp==\"scissors\" or my_choice==\"paper\" and comp==\"rock\":\n",
    "    print(\"you won the game \")\n",
    "elif  my_choice==\"paper\" and comp==\"scissors\" or my_choice==\"scissors\" and comp==\"rock\"or my_choice==\"rock\" and comp==\"paper\":\n",
    "    print(\"you lost the game\")\n",
    "else:\n",
    "    print(\"Try again\")\n",
    "\n",
    "\n"
   ]
  }
 ],
 "metadata": {
  "kernelspec": {
   "display_name": "Python 3 (ipykernel)",
   "language": "python",
   "name": "python3"
  },
  "language_info": {
   "codemirror_mode": {
    "name": "ipython",
    "version": 3
   },
   "file_extension": ".py",
   "mimetype": "text/x-python",
   "name": "python",
   "nbconvert_exporter": "python",
   "pygments_lexer": "ipython3",
   "version": "3.9.7"
  }
 },
 "nbformat": 4,
 "nbformat_minor": 5
}
